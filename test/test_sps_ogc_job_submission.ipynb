{
 "cells": [
  {
   "cell_type": "code",
   "execution_count": null,
   "id": "2501d9d7-df48-48e3-87ea-1557293b4114",
   "metadata": {},
   "outputs": [],
   "source": [
    "import requests\n",
    "import time\n",
    "\n",
    "from datetime import datetime\n",
    "from IPython.display import JSON\n",
    "\n",
    "from unity_sds_client.unity import Unity\n",
    "from unity_sds_client.unity_services import UnityServices\n",
    "from unity_sds_client.resources.job_status import JobStatus\n",
    "from unity_sds_client.unity import UnityEnvironments"
   ]
  },
  {
   "cell_type": "code",
   "execution_count": null,
   "id": "a134c4b0-1b56-4fa8-af18-8589206af862",
   "metadata": {},
   "outputs": [],
   "source": [
    "unity = Unity(UnityEnvironments.DEV)\n",
    "unity.set_venue_id(\"\")\n",
    "process_service = unity.client(UnityServices.PROCESS_SERVICE)\n"
   ]
  },
  {
   "cell_type": "code",
   "execution_count": 3,
   "id": "ad583525-084e-46aa-9d3f-fb955229211c",
   "metadata": {},
   "outputs": [],
   "source": [
    "process_service.endpoint = \"http://unity-dev-httpd-alb-601260108.us-west-2.elb.amazonaws.com:8080/unity/dev/ogc/\" # unity-venue-dev with 24.3 SPS deployment\n",
    "#process_service.endpoint = \"http://k8s-sps-ogcproce-b59e4702b8-2034669822.us-west-2.elb.amazonaws.com:5001\" # one from Drew's notebook\n",
    "#process_service.endpoint = \"http://k8s-sps-ogcproce-927cdf8d63-717063809.us-west-2.elb.amazonaws.com:5001/\" # EMIT endpoint"
   ]
  },
  {
   "cell_type": "code",
   "execution_count": null,
   "id": "6b81e455-7a5b-4b22-be0c-0904328fa760",
   "metadata": {},
   "outputs": [],
   "source": [
    "process = process_service.get_process(\"cwl_dag\")\n",
    "print(process)\n"
   ]
  },
  {
   "cell_type": "code",
   "execution_count": null,
   "id": "065d888e-1f8e-4ffb-be89-52ecc169a2cf",
   "metadata": {},
   "outputs": [],
   "source": [
    "data = {\n",
    "  \"inputs\": {\n",
    "    \"cwl_workflow\": \"https://raw.githubusercontent.com/unity-sds/unity-sps-workflows/main/demos/echo_message.cwl\",\n",
    "    \"cwl_args\": \"{'message': 'Hello Godwin!'}\",\n",
    "    \"request_memory\": \"8Gi\",\n",
    "    \"request_cpu\": \"4\",\n",
    "    \"request_storage\": \"10Gi\"\n",
    "  },\n",
    "  \"outputs\": {\n",
    "    \"result\": {\n",
    "      \"transmissionMode\": \"reference\"\n",
    "    }\n",
    "  }\n",
    "}\n",
    "submitted_job = process.execute(data)"
   ]
  },
  {
   "cell_type": "code",
   "execution_count": null,
   "id": "33be5c0e-4935-4ba9-a412-2d9c07174af3",
   "metadata": {},
   "outputs": [],
   "source": [
    "data = {\n",
    "  \"inputs\": {\n",
    "    \"cwl_workflow\": \"https://raw.githubusercontent.com/unity-sds/unity-sps-workflows/main/demos/echo_message.cwl\",\n",
    "    \"cwl_args\": \"{'message': 'Hello Brian!'}\",\n",
    "    \"request_memory\": \"8Gi\",\n",
    "    \"request_cpu\": \"4\",\n",
    "    \"request_storage\": \"10Gi\"\n",
    "  },\n",
    "  \"outputs\": {\n",
    "    \"result\": {\n",
    "      \"transmissionMode\": \"reference\"\n",
    "    }\n",
    "  }\n",
    "}\n",
    "submitted_job = process.execute(data)"
   ]
  },
  {
   "cell_type": "code",
   "execution_count": null,
   "id": "6492201e-c2e3-474b-8a48-950241cfeb38",
   "metadata": {},
   "outputs": [],
   "source": [
    "import time\n",
    "\n",
    "status = submitted_job.get_status().status\n",
    "while status in [JobStatus.ACCEPTED, JobStatus.RUNNING]:\n",
    "    print(\"job {} is not complete. Currently in state {} \".format(submitted_job.id, submitted_job.get_status().status))\n",
    "    time.sleep(5)\n",
    "    status = submitted_job.get_status().status\n",
    "\n",
    "print(\"Job {} completed with status {}\".format(submitted_job.id, str(submitted_job.get_status().status)))\n"
   ]
  },
  {
   "cell_type": "code",
   "execution_count": null,
   "id": "0bc542bc-1387-4ae2-9c2f-5f66071644d6",
   "metadata": {},
   "outputs": [],
   "source": [
    "data = {\n",
    "  \"inputs\": {\n",
    "    \"cwl_workflow\": \"http://awslbdockstorestack-lb-1429770210.us-west-2.elb.amazonaws.com:9998/api/ga4gh/trs/v2/tools/%23workflow%2Fdockstore.org%2FGodwinShen%2Femit-ghg/versions/9/plain-CWL/descriptor/workflow.cwl\",\n",
    "    \"cwl_args\": \"https://raw.githubusercontent.com/GodwinShen/emit-ghg/main/test/emit-ghg-test.json\",\n",
    "    \"request_memory\": \"8Gi\",\n",
    "    \"request_cpu\": \"4\",\n",
    "    \"request_storage\": \"10Gi\"\n",
    "  },\n",
    "  \"outputs\": {\n",
    "    \"result\": {\n",
    "      \"transmissionMode\": \"reference\"\n",
    "    }\n",
    "  }\n",
    "}\n",
    "submitted_job = process.execute(data)"
   ]
  },
  {
   "cell_type": "code",
   "execution_count": null,
   "id": "af694385-6b51-4567-81e0-c45854a9f4ae",
   "metadata": {},
   "outputs": [],
   "source": []
  }
 ],
 "metadata": {
  "kernelspec": {
   "display_name": "isofit",
   "language": "python",
   "name": "isofit"
  },
  "language_info": {
   "codemirror_mode": {
    "name": "ipython",
    "version": 3
   },
   "file_extension": ".py",
   "mimetype": "text/x-python",
   "name": "python",
   "nbconvert_exporter": "python",
   "pygments_lexer": "ipython3",
   "version": "3.10.12"
  }
 },
 "nbformat": 4,
 "nbformat_minor": 5
}
