{
 "cells": [
  {
   "cell_type": "code",
   "execution_count": 1,
   "id": "4af10378-a5a7-4efa-bce2-16e29c670d94",
   "metadata": {
    "editable": true,
    "slideshow": {
     "slide_type": ""
    },
    "tags": []
   },
   "outputs": [],
   "source": [
    "import os, re, sys\n",
    "\n",
    "# stage_in packages\n",
    "from unity_sds_client.resources.collection import Collection\n",
    "\n",
    "# stage_out packages\n",
    "from datetime import datetime, timezone\n",
    "from unity_sds_client.resources.dataset import Dataset\n",
    "from unity_sds_client.resources.data_file import DataFile"
   ]
  },
  {
   "cell_type": "markdown",
   "id": "e6f81fe9-dcfa-4835-adfc-a77fb2a2cd79",
   "metadata": {},
   "source": [
    "# Import Files from STAC Item Collection\n",
    "\n",
    "Load filenames from the stage_in STAC item collection file"
   ]
  },
  {
   "cell_type": "code",
   "execution_count": 2,
   "id": "adc38c06-04eb-4b42-9322-2cabc22b58ec",
   "metadata": {
    "tags": [
     "parameters"
    ]
   },
   "outputs": [],
   "source": [
    "input_stac_collection_file = 'test/stage_in/catalog.json' # type: stage-in\n",
    "output_stac_catalog_dir    = 'process_results/'                    # type: stage-out\n",
    "\n",
    "output_filename_prefix = 'test_output'"
   ]
  },
  {
   "cell_type": "code",
   "execution_count": 3,
   "id": "e5472906-9768-499e-b904-8234bb6dbfa7",
   "metadata": {
    "editable": true,
    "slideshow": {
     "slide_type": ""
    },
    "tags": []
   },
   "outputs": [
    {
     "name": "stdout",
     "output_type": "stream",
     "text": [
      "if2\n"
     ]
    },
    {
     "data": {
      "text/plain": [
       "['/unity/ads/input_collections/EMIT_TEST/EMIT_L1B/EMIT_L1B_RAD_001_20230620T084426_2317106_011.nc',\n",
       " '/unity/ads/input_collections/EMIT_TEST/EMIT_L1B/EMIT_L1B_OBS_001_20230620T084426_2317106_011.nc',\n",
       " '/unity/ads/input_collections/EMIT_TEST/EMIT_L2A/EMIT_L2A_RFL_001_20230620T084426_2317106_011.nc',\n",
       " '/unity/ads/input_collections/EMIT_TEST/EMIT_L2A/EMIT_L2A_RFLUNCERT_001_20230620T084426_2317106_011.nc',\n",
       " '/unity/ads/input_collections/EMIT_TEST/EMIT_L2A/EMIT_L2A_MASK_001_20230620T084426_2317106_011.nc']"
      ]
     },
     "execution_count": 3,
     "metadata": {},
     "output_type": "execute_result"
    }
   ],
   "source": [
    "inp_collection = Collection.from_stac(input_stac_collection_file)\n",
    "data_filenames = inp_collection.data_locations()\n",
    "\n",
    "data_filenames"
   ]
  },
  {
   "cell_type": "markdown",
   "id": "34225626-15f3-4296-976e-4cabb196c6cb",
   "metadata": {},
   "source": [
    "# Grab input files for GHG process\n",
    "\n",
    "Pass appropriate nc files into the ghg_process.py call"
   ]
  },
  {
   "cell_type": "code",
   "execution_count": 4,
   "id": "7868e315-7721-4a0e-9525-adce1da4abdd",
   "metadata": {
    "editable": true,
    "slideshow": {
     "slide_type": ""
    },
    "tags": []
   },
   "outputs": [],
   "source": [
    "# need to add some robustness code and/or basic exception handling to deal with possibly mal-formed input catalog\n",
    "r = re.compile('.*L1B_RAD*')\n",
    "l1b_rad_filename = list(filter(r.match, data_filenames))[0]\n",
    "r = re.compile('.*L1B_OBS*')\n",
    "l1b_obs_filename = list(filter(r.match, data_filenames))[0]\n",
    "r = re.compile('.*L2A_MASL*')\n",
    "l2a_mask_filename = list(filter(r.match, data_filenames))[0]\n",
    "\n",
    "#print(l1b_rad_filename)\n",
    "#print(l1b_obs_filename)\n",
    "#print(l2a_mask_filename)"
   ]
  },
  {
   "cell_type": "markdown",
   "id": "a758be70-0604-4eba-9da1-23904cdcdca8",
   "metadata": {},
   "source": [
    "# Reconstruct CH4 matched filter hdf5 file for use by the GHG process\n",
    "Concatenate 50 MiB chunks of dataset_ch4_full.hdf5 file"
   ]
  },
  {
   "cell_type": "code",
   "execution_count": 5,
   "id": "e30552af-38bb-4eee-ba6c-9304a38d6530",
   "metadata": {
    "editable": true,
    "slideshow": {
     "slide_type": ""
    },
    "tags": [
     "parameters"
    ]
   },
   "outputs": [
    {
     "data": {
      "text/plain": [
       "0"
      ]
     },
     "execution_count": 5,
     "metadata": {},
     "output_type": "execute_result"
    }
   ],
   "source": [
    "os.system('cat test/dataset_ch4/x* > test/dataset_ch4/dataset_ch4_full.hdf5')"
   ]
  },
  {
   "cell_type": "markdown",
   "id": "5b378fa0-14fe-4a30-bd7a-6833f44a7d64",
   "metadata": {},
   "source": [
    "# Run the GHG process\n",
    "Pass appropriate nc files into the ghg_process.py call"
   ]
  },
  {
   "cell_type": "code",
   "execution_count": 6,
   "id": "34de5e59-fd84-48b1-875c-f8782e664907",
   "metadata": {
    "editable": true,
    "slideshow": {
     "slide_type": ""
    },
    "tags": [
     "parameters"
    ]
   },
   "outputs": [
    {
     "name": "stderr",
     "output_type": "stream",
     "text": [
      "/unity/ads/users/gshen/.conda/envs/isofit/lib/python3.10/site-packages/tqdm/auto.py:21: TqdmWarning: IProgress not found. Please update jupyter and ipywidgets. See https://ipywidgets.readthedocs.io/en/stable/user_install.html\n",
      "  from .autonotebook import tqdm as notebook_tqdm\n",
      "2024-08-30 15:40:21,542\tINFO util.py:159 -- Missing packages: ['ipywidgets']. Run `pip install -U ipywidgets`, then restart the notebook server for rich notebook output.\n",
      "/unity/ads/users/gshen/.conda/envs/isofit/lib/python3.10/site-packages/osgeo/gdal.py:287: FutureWarning: Neither gdal.UseExceptions() nor gdal.DontUseExceptions() has been explicitly called. In GDAL 4.0, exceptions will be enabled by default.\n",
      "  warnings.warn(\n",
      "INFO:2024-08-30,15:40:45 ||| starting parallel mf\n",
      "INFO:2024-08-30,15:40:45 ||| Started processing input file: \"/unity/ads/input_collections/EMIT_TEST/EMIT_L1B/EMIT_L1B_RAD_001_20230620T084426_2317106_011.nc\"\n",
      "INFO:2024-08-30,15:40:50 ||| Active wavelength range: [500.0, 2450.0]: 255 channels\n",
      "INFO:2024-08-30,15:40:50 ||| load target library\n",
      "INFO:2024-08-30,15:40:50 ||| Create output file, initialized with nodata\n",
      "2024-08-30 15:41:03,826\tWARNING services.py:1832 -- WARNING: The object store is using /tmp instead of /dev/shm because /dev/shm has only 67108864 bytes available. This will harm performance! You may be able to free up space by deleting files in /dev/shm. If you are inside a Docker container, you can increase /dev/shm size by passing '--shm-size=1.02gb' to 'docker run' (or add it to the run_options list in a Ray cluster config). Make sure to set this to more than 30% of available RAM.\n",
      "2024-08-30 15:41:05,106\tINFO worker.py:1621 -- Started a local Ray instance.\n",
      "INFO:2024-08-30,15:41:09 ||| load radiance for chunk 1 / 1\n",
      "INFO:2024-08-30,15:41:12 ||| load masks\n",
      "INFO:2024-08-30,15:41:14 ||| writing flare locations to process_results/test_output_flares.json\n",
      "INFO:2024-08-30,15:41:14 ||| initializing ray, adding data to shared memory\n",
      "INFO:2024-08-30,15:41:21 ||| Run jobs\n",
      "\u001b[2m\u001b[36m(mf_one_column pid=635)\u001b[0m DEBUG:2024-08-30,15:41:29 ||| Col: 628\n",
      "\u001b[2m\u001b[36m(mf_one_column pid=635)\u001b[0m DEBUG:2024-08-30,15:41:29 ||| Column 628 mean: -1.0584244591882452e-11\n",
      "\u001b[2m\u001b[36m(mf_one_column pid=635)\u001b[0m DEBUG:2024-08-30,15:41:30 ||| Too few good pixels found in col {col}: skipping\n",
      "\u001b[2m\u001b[36m(mf_one_column pid=635)\u001b[0m DEBUG:2024-08-30,15:41:34 ||| Col: 441\u001b[32m [repeated 302x across cluster] (Ray deduplicates logs by default. Set RAY_DEDUP_LOGS=0 to disable log deduplication, or see https://docs.ray.io/en/master/ray-observability/ray-logging.html#log-deduplication for more options.)\u001b[0m\n",
      "\u001b[2m\u001b[36m(mf_one_column pid=635)\u001b[0m DEBUG:2024-08-30,15:41:34 ||| Column 137 mean: 5.229594535194337e-13\u001b[32m [repeated 297x across cluster]\u001b[0m\n",
      "\u001b[2m\u001b[36m(mf_one_column pid=635)\u001b[0m DEBUG:2024-08-30,15:41:34 ||| Too few good pixels found in col {col}: skipping\u001b[32m [repeated 12x across cluster]\u001b[0m\n",
      "\u001b[2m\u001b[36m(mf_one_column pid=633)\u001b[0m DEBUG:2024-08-30,15:41:39 ||| Col: 737\u001b[32m [repeated 292x across cluster]\u001b[0m\n",
      "\u001b[2m\u001b[36m(mf_one_column pid=635)\u001b[0m DEBUG:2024-08-30,15:41:39 ||| Column 743 mean: -3.5602928013152753e-12\u001b[32m [repeated 280x across cluster]\u001b[0m\n",
      "\u001b[2m\u001b[36m(mf_one_column pid=634)\u001b[0m DEBUG:2024-08-30,15:41:37 ||| Too few good pixels found in col {col}: skipping\u001b[32m [repeated 8x across cluster]\u001b[0m\n",
      "\u001b[2m\u001b[36m(mf_one_column pid=633)\u001b[0m DEBUG:2024-08-30,15:41:44 ||| Col: 1044\u001b[32m [repeated 309x across cluster]\u001b[0m\n",
      "\u001b[2m\u001b[36m(mf_one_column pid=635)\u001b[0m DEBUG:2024-08-30,15:41:44 ||| Column 1055 mean: 3.550157228745914e-13\u001b[32m [repeated 312x across cluster]\u001b[0m\n",
      "\u001b[2m\u001b[36m(mf_one_column pid=633)\u001b[0m DEBUG:2024-08-30,15:41:49 ||| Col: 87\u001b[32m [repeated 284x across cluster]\u001b[0m\n",
      "\u001b[2m\u001b[36m(mf_one_column pid=635)\u001b[0m DEBUG:2024-08-30,15:41:49 ||| Column 96 mean: -8.8524150972565e-12\u001b[32m [repeated 282x across cluster]\u001b[0m\n",
      "INFO:2024-08-30,15:41:50 ||| Collecting and writing output\n",
      "INFO:2024-08-30,15:41:50 ||| Masking clouds and water\n",
      "INFO:2024-08-30,15:41:50 ||| Masking saturation\n",
      "INFO:2024-08-30,15:41:50 ||| Complete\n",
      "Traceback (most recent call last):\n",
      "  File \"/unity/ads/users/gshen/jay_emit_testing/emit-ghg/apply_glt.py\", line 21, in <module>\n",
      "    from osgeo import gdal\n",
      "ModuleNotFoundError: No module named 'osgeo'\n",
      "ERROR 4: process_results/test_output_ch4_mf_ort: No such file or directory\n",
      "\u001b[2m\u001b[36m(raylet)\u001b[0m Spilled 2885 MiB, 765 objects, write throughput 81 MiB/s. Set RAY_verbose_spill_logs=0 to disable this message.\n"
     ]
    },
    {
     "ename": "AttributeError",
     "evalue": "'NoneType' object has no attribute 'ReadAsArray'",
     "output_type": "error",
     "traceback": [
      "\u001b[0;31m---------------------------------------------------------------------------\u001b[0m",
      "\u001b[0;31mAttributeError\u001b[0m                            Traceback (most recent call last)",
      "Cell \u001b[0;32mIn[6], line 2\u001b[0m\n\u001b[1;32m      1\u001b[0m sys\u001b[38;5;241m.\u001b[39margv \u001b[38;5;241m=\u001b[39m [\u001b[38;5;124m'\u001b[39m\u001b[38;5;124mghg_process.py\u001b[39m\u001b[38;5;124m'\u001b[39m, l1b_rad_filename, l1b_obs_filename, l1b_rad_filename, \u001b[38;5;124m'\u001b[39m\u001b[38;5;124mblah.img\u001b[39m\u001b[38;5;124m'\u001b[39m, l2a_mask_filename, l2a_mask_filename, output_stac_catalog_dir\u001b[38;5;241m+\u001b[39moutput_filename_prefix, \u001b[38;5;124m'\u001b[39m\u001b[38;5;124m--state_subs\u001b[39m\u001b[38;5;124m'\u001b[39m, l2a_mask_filename, \u001b[38;5;124m'\u001b[39m\u001b[38;5;124m--overwrite\u001b[39m\u001b[38;5;124m'\u001b[39m]\n\u001b[0;32m----> 2\u001b[0m \u001b[43mexec\u001b[49m\u001b[43m(\u001b[49m\u001b[38;5;28;43mopen\u001b[39;49m\u001b[43m(\u001b[49m\u001b[38;5;124;43m\"\u001b[39;49m\u001b[38;5;124;43m./ghg_process.py\u001b[39;49m\u001b[38;5;124;43m\"\u001b[39;49m\u001b[43m)\u001b[49m\u001b[38;5;241;43m.\u001b[39;49m\u001b[43mread\u001b[49m\u001b[43m(\u001b[49m\u001b[43m)\u001b[49m\u001b[43m)\u001b[49m\n",
      "File \u001b[0;32m<string>:264\u001b[0m\n",
      "File \u001b[0;32m<string>:206\u001b[0m, in \u001b[0;36mmain\u001b[0;34m(input_args)\u001b[0m\n",
      "File \u001b[0;32m/unity/ads/users/gshen/jay_emit_testing/emit-ghg/scale.py:51\u001b[0m, in \u001b[0;36mmain\u001b[0;34m(input_args)\u001b[0m\n\u001b[1;32m     47\u001b[0m args \u001b[38;5;241m=\u001b[39m parser\u001b[38;5;241m.\u001b[39mparse_args(input_args)\n\u001b[1;32m     50\u001b[0m ds \u001b[38;5;241m=\u001b[39m gdal\u001b[38;5;241m.\u001b[39mOpen(args\u001b[38;5;241m.\u001b[39minput_file,gdal\u001b[38;5;241m.\u001b[39mGA_ReadOnly)\n\u001b[0;32m---> 51\u001b[0m dat \u001b[38;5;241m=\u001b[39m \u001b[43mds\u001b[49m\u001b[38;5;241;43m.\u001b[39;49m\u001b[43mReadAsArray\u001b[49m()\u001b[38;5;241m.\u001b[39mastype(np\u001b[38;5;241m.\u001b[39mfloat32)\n\u001b[1;32m     52\u001b[0m dat[dat \u001b[38;5;241m==\u001b[39m ds\u001b[38;5;241m.\u001b[39mGetRasterBand(\u001b[38;5;241m1\u001b[39m)\u001b[38;5;241m.\u001b[39mGetNoDataValue()] \u001b[38;5;241m=\u001b[39m np\u001b[38;5;241m.\u001b[39mnan\n\u001b[1;32m     54\u001b[0m \u001b[38;5;28mprint\u001b[39m(args\u001b[38;5;241m.\u001b[39mcmap)\n",
      "\u001b[0;31mAttributeError\u001b[0m: 'NoneType' object has no attribute 'ReadAsArray'"
     ]
    }
   ],
   "source": [
    "sys.argv = ['ghg_process.py', l1b_rad_filename, l1b_obs_filename, l1b_rad_filename, 'blah.img', l2a_mask_filename, l2a_mask_filename, output_stac_catalog_dir+output_filename_prefix, '--state_subs', l2a_mask_filename, '--overwrite']\n",
    "exec(open(\"./ghg_process.py\").read())"
   ]
  },
  {
   "cell_type": "markdown",
   "id": "e1b66456-1664-4efa-8f94-d11d751661ff",
   "metadata": {
    "editable": true,
    "slideshow": {
     "slide_type": ""
    },
    "tags": [
     "parameters"
    ]
   },
   "source": [
    "# Create stage-out item catalog"
   ]
  },
  {
   "cell_type": "code",
   "execution_count": 7,
   "id": "cd5b2c94-bc8b-4a2a-879a-0a053e1dbf00",
   "metadata": {
    "editable": true,
    "slideshow": {
     "slide_type": ""
    },
    "tags": []
   },
   "outputs": [],
   "source": [
    "# Create a collection\n",
    "out_collection  = Collection(\"EMIT_TEST_FOR_JAY\")\n",
    "\n",
    "# Create Datasets for the MF output file\n",
    "start_time=datetime.utcnow().replace(tzinfo=timezone.utc).isoformat()\n",
    "end_time=datetime.utcnow().replace(tzinfo=timezone.utc).isoformat()\n",
    "creation_time=datetime.utcnow().replace(tzinfo=timezone.utc).isoformat()\n",
    "\n",
    "mf_envi_file = output_filename_prefix + '_ch4_mf'\n",
    "dataset_envi_file = Dataset(\n",
    "    name=mf_envi_file, \n",
    "    collection_id=out_collection.collection_id, \n",
    "    start_time=start_time, \n",
    "    end_time=end_time,\n",
    "    creation_time=creation_time,\n",
    ")\n",
    "dataset_envi_file.add_data_file(DataFile(\"data\", mf_envi_file)) # Add output file(s) to the dataset\n",
    "\n",
    "mf_envi_hdr = output_filename_prefix + '_ch4_mf.hdr'\n",
    "dataset_envi_hdr = Dataset(\n",
    "    name=mf_envi_hdr, \n",
    "    collection_id=out_collection.collection_id, \n",
    "    start_time=start_time, \n",
    "    end_time=end_time,\n",
    "    creation_time=creation_time,\n",
    ")\n",
    "dataset_envi_hdr.add_data_file(DataFile(\"data\", mf_envi_hdr)) # Add output file(s) to the dataset\n",
    "\n",
    "mf_target = output_filename_prefix + '_ch4_target'\n",
    "dataset_target = Dataset(\n",
    "    name=mf_target, \n",
    "    collection_id=out_collection.collection_id, \n",
    "    start_time=start_time, \n",
    "    end_time=end_time,\n",
    "    creation_time=creation_time,\n",
    ")\n",
    "dataset_target.add_data_file(DataFile(\"data\", mf_target)) # Add output file(s) to the dataset\n",
    "\n",
    "# Add the dataset to the collection\n",
    "#out_collection.add_dataset(dataset)\n",
    "out_collection._datasets.append(dataset_envi_file)\n",
    "out_collection._datasets.append(dataset_envi_hdr)\n",
    "out_collection._datasets.append(dataset_target)\n",
    "\n",
    "Collection.to_stac(out_collection, output_stac_catalog_dir)"
   ]
  },
  {
   "cell_type": "code",
   "execution_count": 8,
   "id": "d3434049-4e9f-40e3-9801-81eaac947cd1",
   "metadata": {},
   "outputs": [
    {
     "data": {
      "text/plain": [
       "['test_output_ch4_mf', 'test_output_ch4_mf.hdr', 'test_output_ch4_target']"
      ]
     },
     "execution_count": 8,
     "metadata": {},
     "output_type": "execute_result"
    }
   ],
   "source": [
    "out_collection.data_locations()"
   ]
  },
  {
   "cell_type": "code",
   "execution_count": null,
   "id": "f4623f6a-f125-4969-a73d-109181c9c526",
   "metadata": {},
   "outputs": [],
   "source": []
  }
 ],
 "metadata": {
  "kernelspec": {
   "display_name": "isofit",
   "language": "python",
   "name": "isofit"
  },
  "language_info": {
   "codemirror_mode": {
    "name": "ipython",
    "version": 3
   },
   "file_extension": ".py",
   "mimetype": "text/x-python",
   "name": "python",
   "nbconvert_exporter": "python",
   "pygments_lexer": "ipython3",
   "version": "3.10.12"
  }
 },
 "nbformat": 4,
 "nbformat_minor": 5
}
