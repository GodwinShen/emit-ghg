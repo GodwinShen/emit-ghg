{
 "cells": [
  {
   "cell_type": "code",
   "execution_count": 16,
   "id": "4af10378-a5a7-4efa-bce2-16e29c670d94",
   "metadata": {
    "editable": true,
    "slideshow": {
     "slide_type": ""
    },
    "tags": []
   },
   "outputs": [],
   "source": [
    "import os, re, sys\n",
    "\n",
    "# stage_in packages\n",
    "from unity_sds_client.resources.collection import Collection\n",
    "\n",
    "# stage_out packages\n",
    "from datetime import datetime, timezone\n",
    "from unity_sds_client.resources.dataset import Dataset\n",
    "from unity_sds_client.resources.data_file import DataFile"
   ]
  },
  {
   "cell_type": "markdown",
   "id": "e6f81fe9-dcfa-4835-adfc-a77fb2a2cd79",
   "metadata": {},
   "source": [
    "# Import Files from STAC Item Collection\n",
    "\n",
    "Load filenames from the stage_in STAC item collection file"
   ]
  },
  {
   "cell_type": "code",
   "execution_count": 17,
   "id": "adc38c06-04eb-4b42-9322-2cabc22b58ec",
   "metadata": {
    "tags": [
     "parameters"
    ]
   },
   "outputs": [],
   "source": [
    "input_stac_collection_file = 'test/stage_in/catalog.json' # type: stage-in\n",
    "output_stac_catalog_dir    = 'process_results'                    # type: stage-out\n",
    "\n",
    "output_filename_prefix = 'test_output'"
   ]
  },
  {
   "cell_type": "code",
   "execution_count": 18,
   "id": "e5472906-9768-499e-b904-8234bb6dbfa7",
   "metadata": {
    "editable": true,
    "slideshow": {
     "slide_type": ""
    },
    "tags": []
   },
   "outputs": [
    {
     "name": "stdout",
     "output_type": "stream",
     "text": [
      "if2\n"
     ]
    },
    {
     "data": {
      "text/plain": [
       "['/unity/ads/input_collections/EMIT_TEST/EMIT_L1B/EMIT_L1B_RAD_001_20230620T084426_2317106_011.nc',\n",
       " '/unity/ads/input_collections/EMIT_TEST/EMIT_L1B/EMIT_L1B_OBS_001_20230620T084426_2317106_011.nc',\n",
       " '/unity/ads/input_collections/EMIT_TEST/EMIT_L2A/EMIT_L2A_RFL_001_20230620T084426_2317106_011.nc',\n",
       " '/unity/ads/input_collections/EMIT_TEST/EMIT_L2A/EMIT_L2A_RFLUNCERT_001_20230620T084426_2317106_011.nc',\n",
       " '/unity/ads/input_collections/EMIT_TEST/EMIT_L2A/EMIT_L2A_MASK_001_20230620T084426_2317106_011.nc']"
      ]
     },
     "execution_count": 18,
     "metadata": {},
     "output_type": "execute_result"
    }
   ],
   "source": [
    "inp_collection = Collection.from_stac(input_stac_collection_file)\n",
    "data_filenames = inp_collection.data_locations()\n",
    "\n",
    "data_filenames"
   ]
  },
  {
   "cell_type": "markdown",
   "id": "34225626-15f3-4296-976e-4cabb196c6cb",
   "metadata": {},
   "source": [
    "# Grab input files for GHG process\n",
    "\n",
    "Pass appropriate nc files into the ghg_process.py call"
   ]
  },
  {
   "cell_type": "code",
   "execution_count": 19,
   "id": "7868e315-7721-4a0e-9525-adce1da4abdd",
   "metadata": {
    "editable": true,
    "slideshow": {
     "slide_type": ""
    },
    "tags": []
   },
   "outputs": [],
   "source": [
    "# need to add some robustness code and/or basic exception handling to deal with possibly mal-formed input catalog\n",
    "r = re.compile('.*L1B_RAD*')\n",
    "l1b_rad_filename = list(filter(r.match, data_filenames))[0]\n",
    "r = re.compile('.*L1B_OBS*')\n",
    "l1b_obs_filename = list(filter(r.match, data_filenames))[0]\n",
    "r = re.compile('.*L2A_MASL*')\n",
    "l2a_mask_filename = list(filter(r.match, data_filenames))[0]\n",
    "\n",
    "#print(l1b_rad_filename)\n",
    "#print(l1b_obs_filename)\n",
    "#print(l2a_mask_filename)"
   ]
  },
  {
   "cell_type": "markdown",
   "id": "a758be70-0604-4eba-9da1-23904cdcdca8",
   "metadata": {},
   "source": [
    "# Create output directory\n",
    "Create directory to store output files, it will be held locally at the path specified by the stage-out variable \"output_stac_catalog_dir\""
   ]
  },
  {
   "cell_type": "code",
   "execution_count": 20,
   "id": "e30552af-38bb-4eee-ba6c-9304a38d6530",
   "metadata": {
    "editable": true,
    "slideshow": {
     "slide_type": ""
    },
    "tags": [
     "parameters"
    ]
   },
   "outputs": [],
   "source": [
    "if not os.path.exists(output_stac_catalog_dir):\n",
    "    os.system('mkdir ' + output_stac_catalog_dir)\n",
    "\n"
   ]
  },
  {
   "cell_type": "markdown",
   "id": "5b378fa0-14fe-4a30-bd7a-6833f44a7d64",
   "metadata": {},
   "source": [
    "# Run the GHG process\n",
    "Pass appropriate nc files into the ghg_process.py call"
   ]
  },
  {
   "cell_type": "code",
   "execution_count": 21,
   "id": "34de5e59-fd84-48b1-875c-f8782e664907",
   "metadata": {
    "editable": true,
    "slideshow": {
     "slide_type": ""
    },
    "tags": [
     "parameters"
    ]
   },
   "outputs": [
    {
     "name": "stderr",
     "output_type": "stream",
     "text": [
      "INFO:2024-09-05,15:58:37 ||| starting parallel mf\n",
      "INFO:2024-09-05,15:58:37 ||| Started processing input file: \"/unity/ads/input_collections/EMIT_TEST/EMIT_L1B/EMIT_L1B_RAD_001_20230620T084426_2317106_011.nc\"\n",
      "INFO:2024-09-05,15:58:41 ||| Active wavelength range: [500.0, 2450.0]: 255 channels\n",
      "INFO:2024-09-05,15:58:41 ||| load target library\n",
      "INFO:2024-09-05,15:58:41 ||| Create output file, initialized with nodata\n",
      "2024-09-05 15:58:41,409\tINFO worker.py:1453 -- Calling ray.init() again after it has already been called.\n",
      "INFO:2024-09-05,15:58:41 ||| load radiance for chunk 1 / 1\n",
      "INFO:2024-09-05,15:58:42 ||| load masks\n",
      "INFO:2024-09-05,15:58:44 ||| writing flare locations to process_results/test_output_flares.json\n",
      "INFO:2024-09-05,15:58:45 ||| initializing ray, adding data to shared memory\n",
      "INFO:2024-09-05,15:58:46 ||| Run jobs\n",
      "\u001b[2m\u001b[36m(mf_one_column pid=523)\u001b[0m DEBUG:2024-09-05,15:58:46 ||| Col: 0\n",
      "\u001b[2m\u001b[36m(mf_one_column pid=523)\u001b[0m DEBUG:2024-09-05,15:58:46 ||| Column 0 mean: -7.678489716011945e-12\n",
      "\u001b[2m\u001b[36m(mf_one_column pid=523)\u001b[0m DEBUG:2024-09-05,15:58:47 ||| Column 3 mean: -4.623264734012385e-13\n",
      "\u001b[2m\u001b[36m(mf_one_column pid=523)\u001b[0m DEBUG:2024-09-05,15:58:51 ||| Col: 252\u001b[32m [repeated 252x across cluster]\u001b[0m\n",
      "\u001b[2m\u001b[36m(mf_one_column pid=523)\u001b[0m DEBUG:2024-09-05,15:58:52 ||| Column 258 mean: 4.0131453715730455e-12\u001b[32m [repeated 255x across cluster]\u001b[0m\n",
      "\u001b[2m\u001b[36m(mf_one_column pid=523)\u001b[0m DEBUG:2024-09-05,15:58:54 ||| Too few good pixels found in col {col}: skipping\n",
      "\u001b[2m\u001b[36m(mf_one_column pid=523)\u001b[0m DEBUG:2024-09-05,15:58:54 ||| Too few good pixels found in col {col}: skipping\n",
      "\u001b[2m\u001b[36m(mf_one_column pid=523)\u001b[0m DEBUG:2024-09-05,15:58:55 ||| Too few good pixels found in col {col}: skipping\n",
      "\u001b[2m\u001b[36m(mf_one_column pid=524)\u001b[0m DEBUG:2024-09-05,15:58:56 ||| Col: 552\u001b[32m [repeated 301x across cluster]\u001b[0m\n",
      "\u001b[2m\u001b[36m(mf_one_column pid=523)\u001b[0m DEBUG:2024-09-05,15:58:57 ||| Column 557 mean: 2.9169336860097306e-12\u001b[32m [repeated 278x across cluster]\u001b[0m\n",
      "\u001b[2m\u001b[36m(mf_one_column pid=524)\u001b[0m DEBUG:2024-09-05,15:58:55 ||| Too few good pixels found in col {col}: skipping\u001b[32m [repeated 18x across cluster]\u001b[0m\n",
      "\u001b[2m\u001b[36m(mf_one_column pid=522)\u001b[0m DEBUG:2024-09-05,15:59:02 ||| Col: 900\u001b[32m [repeated 250x across cluster]\u001b[0m\n",
      "\u001b[2m\u001b[36m(mf_one_column pid=523)\u001b[0m DEBUG:2024-09-05,15:59:02 ||| Column 902 mean: 9.338189480937823e-12\u001b[32m [repeated 249x across cluster]\u001b[0m\n",
      "\u001b[2m\u001b[36m(mf_one_column pid=524)\u001b[0m DEBUG:2024-09-05,15:59:06 ||| Col: 689\u001b[32m [repeated 273x across cluster]\u001b[0m\n",
      "\u001b[2m\u001b[36m(mf_one_column pid=523)\u001b[0m DEBUG:2024-09-05,15:59:07 ||| Column 690 mean: -2.673061771929497e-12\u001b[32m [repeated 274x across cluster]\u001b[0m\n",
      "INFO:2024-09-05,15:59:09 ||| Collecting and writing output\n",
      "INFO:2024-09-05,15:59:09 ||| Masking clouds and water\n",
      "INFO:2024-09-05,15:59:09 ||| Masking saturation\n",
      "INFO:2024-09-05,15:59:10 ||| Complete\n",
      "Traceback (most recent call last):\n",
      "  File \"/unity/ads/users/gshen/emit-ghg/apply_glt.py\", line 21, in <module>\n",
      "    from osgeo import gdal\n",
      "ModuleNotFoundError: No module named 'osgeo'\n",
      "\u001b[2m\u001b[36m(raylet)\u001b[0m Spilled 9036 MiB, 2546 objects, write throughput 104 MiB/s.\n"
     ]
    }
   ],
   "source": [
    "sys.argv = ['ghg_process.py', l1b_rad_filename, l1b_obs_filename, l1b_rad_filename, 'blah.img', l2a_mask_filename, l2a_mask_filename, output_stac_catalog_dir+'/'+output_filename_prefix, '--state_subs', l2a_mask_filename, '--overwrite']\n",
    "exec(open(\"./ghg_process.py\").read())"
   ]
  },
  {
   "cell_type": "markdown",
   "id": "e1b66456-1664-4efa-8f94-d11d751661ff",
   "metadata": {
    "editable": true,
    "slideshow": {
     "slide_type": ""
    },
    "tags": [
     "parameters"
    ]
   },
   "source": [
    "# Create stage-out item catalog"
   ]
  },
  {
   "cell_type": "code",
   "execution_count": 22,
   "id": "cd5b2c94-bc8b-4a2a-879a-0a053e1dbf00",
   "metadata": {
    "editable": true,
    "slideshow": {
     "slide_type": ""
    },
    "tags": []
   },
   "outputs": [],
   "source": [
    "# Create a collection\n",
    "out_collection  = Collection(\"EMIT_TEST_FOR_JAY\")\n",
    "\n",
    "# Create Datasets for the MF output file\n",
    "start_time=datetime.utcnow().replace(tzinfo=timezone.utc).isoformat()\n",
    "end_time=datetime.utcnow().replace(tzinfo=timezone.utc).isoformat()\n",
    "creation_time=datetime.utcnow().replace(tzinfo=timezone.utc).isoformat()\n",
    "\n",
    "mf_envi_file = output_filename_prefix + '_ch4_mf'\n",
    "dataset_envi_file = Dataset(\n",
    "    name=mf_envi_file, \n",
    "    collection_id=out_collection.collection_id, \n",
    "    start_time=start_time, \n",
    "    end_time=end_time,\n",
    "    creation_time=creation_time,\n",
    ")\n",
    "dataset_envi_file.add_data_file(DataFile(\"data\", mf_envi_file)) # Add output file(s) to the dataset\n",
    "\n",
    "mf_envi_hdr = output_filename_prefix + '_ch4_mf.hdr'\n",
    "dataset_envi_hdr = Dataset(\n",
    "    name=mf_envi_hdr, \n",
    "    collection_id=out_collection.collection_id, \n",
    "    start_time=start_time, \n",
    "    end_time=end_time,\n",
    "    creation_time=creation_time,\n",
    ")\n",
    "dataset_envi_hdr.add_data_file(DataFile(\"data\", mf_envi_hdr)) # Add output file(s) to the dataset\n",
    "\n",
    "mf_target = output_filename_prefix + '_ch4_target'\n",
    "dataset_target = Dataset(\n",
    "    name=mf_target, \n",
    "    collection_id=out_collection.collection_id, \n",
    "    start_time=start_time, \n",
    "    end_time=end_time,\n",
    "    creation_time=creation_time,\n",
    ")\n",
    "dataset_target.add_data_file(DataFile(\"data\", mf_target)) # Add output file(s) to the dataset\n",
    "\n",
    "# Add the dataset to the collection\n",
    "#out_collection.add_dataset(dataset)\n",
    "out_collection._datasets.append(dataset_envi_file)\n",
    "out_collection._datasets.append(dataset_envi_hdr)\n",
    "out_collection._datasets.append(dataset_target)\n",
    "\n",
    "Collection.to_stac(out_collection, output_stac_catalog_dir)"
   ]
  },
  {
   "cell_type": "code",
   "execution_count": 23,
   "id": "d3434049-4e9f-40e3-9801-81eaac947cd1",
   "metadata": {},
   "outputs": [
    {
     "data": {
      "text/plain": [
       "['test_output_ch4_mf', 'test_output_ch4_mf.hdr', 'test_output_ch4_target']"
      ]
     },
     "execution_count": 23,
     "metadata": {},
     "output_type": "execute_result"
    },
    {
     "name": "stderr",
     "output_type": "stream",
     "text": [
      "*** SIGTERM received at time=1725552014 on cpu 1 ***\n",
      "PC: @     0x7f068d80f01e  (unknown)  epoll_wait\n",
      "    @     0x7f068d72b520  (unknown)  (unknown)\n",
      "[2024-09-05 16:00:14,901 E 389 389] logging.cc:361: *** SIGTERM received at time=1725552014 on cpu 1 ***\n",
      "[2024-09-05 16:00:14,901 E 389 389] logging.cc:361: PC: @     0x7f068d80f01e  (unknown)  epoll_wait\n",
      "[2024-09-05 16:00:14,901 E 389 389] logging.cc:361:     @     0x7f068d72b520  (unknown)  (unknown)\n"
     ]
    }
   ],
   "source": [
    "out_collection.data_locations()"
   ]
  },
  {
   "cell_type": "code",
   "execution_count": null,
   "id": "f4623f6a-f125-4969-a73d-109181c9c526",
   "metadata": {},
   "outputs": [],
   "source": []
  }
 ],
 "metadata": {
  "kernelspec": {
   "display_name": "Python 3 (ipykernel)",
   "language": "python",
   "name": "python3"
  },
  "language_info": {
   "codemirror_mode": {
    "name": "ipython",
    "version": 3
   },
   "file_extension": ".py",
   "mimetype": "text/x-python",
   "name": "python",
   "nbconvert_exporter": "python",
   "pygments_lexer": "ipython3",
   "version": "3.11.6"
  }
 },
 "nbformat": 4,
 "nbformat_minor": 5
}
