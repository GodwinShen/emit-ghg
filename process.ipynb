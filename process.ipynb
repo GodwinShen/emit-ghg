{
 "cells": [
  {
   "cell_type": "code",
   "execution_count": 4,
   "id": "4af10378-a5a7-4efa-bce2-16e29c670d94",
   "metadata": {
    "editable": true,
    "slideshow": {
     "slide_type": ""
    },
    "tags": []
   },
   "outputs": [],
   "source": [
    "import os, re, sys\n",
    "\n",
    "# stage_in packages\n",
    "from unity_sds_client.resources.collection import Collection\n",
    "\n",
    "# stage_out packages\n",
    "from datetime import datetime, timezone\n",
    "from unity_sds_client.resources.dataset import Dataset\n",
    "from unity_sds_client.resources.data_file import DataFile"
   ]
  },
  {
   "cell_type": "markdown",
   "id": "e6f81fe9-dcfa-4835-adfc-a77fb2a2cd79",
   "metadata": {},
   "source": [
    "# Import Files from STAC Item Collection\n",
    "\n",
    "Load filenames from the stage_in STAC item collection file"
   ]
  },
  {
   "cell_type": "code",
   "execution_count": 5,
   "id": "adc38c06-04eb-4b42-9322-2cabc22b58ec",
   "metadata": {
    "tags": [
     "parameters"
    ]
   },
   "outputs": [],
   "source": [
    "input_stac_collection_file = 'test/stage_in/catalog_local.json' # type: stage-in\n",
    "output_stac_catalog_dir    = 'process_results'                    # type: stage-out\n",
    "\n",
    "output_collection = 'EMIT_TEST_FOR_JAY'\n",
    "\n",
    "output_filename_prefix = 'test_output'"
   ]
  },
  {
   "cell_type": "code",
   "execution_count": 6,
   "id": "e5472906-9768-499e-b904-8234bb6dbfa7",
   "metadata": {
    "editable": true,
    "slideshow": {
     "slide_type": ""
    },
    "tags": []
   },
   "outputs": [
    {
     "name": "stdout",
     "output_type": "stream",
     "text": [
      "if2\n"
     ]
    },
    {
     "data": {
      "text/plain": [
       "['/home/gshen/test_data/EMIT_L1B/EMIT_L1B_RAD_001_20230620T084426_2317106_011.nc',\n",
       " '/home/gshen/test_data/EMIT_L1B/EMIT_L1B_OBS_001_20230620T084426_2317106_011.nc',\n",
       " '/home/gshen/test_data/EMIT_L2A/EMIT_L2A_RFL_001_20230620T084426_2317106_011.nc',\n",
       " '/home/gshen/test_data/EMIT_L2A/EMIT_L2A_RFLUNCERT_001_20230620T084426_2317106_011.nc',\n",
       " '/home/gshen/test_data/EMIT_L2A/EMIT_L2A_MASK_001_20230620T084426_2317106_011.nc']"
      ]
     },
     "execution_count": 6,
     "metadata": {},
     "output_type": "execute_result"
    }
   ],
   "source": [
    "inp_collection = Collection.from_stac(input_stac_collection_file)\n",
    "data_filenames = inp_collection.data_locations()\n",
    "\n",
    "data_filenames"
   ]
  },
  {
   "cell_type": "markdown",
   "id": "34225626-15f3-4296-976e-4cabb196c6cb",
   "metadata": {},
   "source": [
    "# Grab input files for GHG process\n",
    "\n",
    "Pass appropriate nc files into the ghg_process.py call"
   ]
  },
  {
   "cell_type": "code",
   "execution_count": 7,
   "id": "7868e315-7721-4a0e-9525-adce1da4abdd",
   "metadata": {
    "editable": true,
    "slideshow": {
     "slide_type": ""
    },
    "tags": []
   },
   "outputs": [],
   "source": [
    "# need to add some robustness code and/or basic exception handling to deal with possibly mal-formed input catalog\n",
    "r = re.compile('.*L1B_RAD*')\n",
    "l1b_rad_filename = list(filter(r.match, data_filenames))[0]\n",
    "r = re.compile('.*L1B_OBS*')\n",
    "l1b_obs_filename = list(filter(r.match, data_filenames))[0]\n",
    "r = re.compile('.*L2A_MASK*')\n",
    "l2a_mask_filename = list(filter(r.match, data_filenames))[0]\n",
    "\n",
    "#print(l1b_rad_filename)\n",
    "#print(l1b_obs_filename)\n",
    "#print(l2a_mask_filename)"
   ]
  },
  {
   "cell_type": "markdown",
   "id": "a758be70-0604-4eba-9da1-23904cdcdca8",
   "metadata": {},
   "source": [
    "# Create output directory\n",
    "Create directory to store output files, it will be held locally at the path specified by the stage-out variable \"output_stac_catalog_dir\""
   ]
  },
  {
   "cell_type": "code",
   "execution_count": 8,
   "id": "e30552af-38bb-4eee-ba6c-9304a38d6530",
   "metadata": {
    "editable": true,
    "slideshow": {
     "slide_type": ""
    },
    "tags": [
     "parameters"
    ]
   },
   "outputs": [],
   "source": [
    "if not os.path.exists(output_stac_catalog_dir):\n",
    "    os.system('mkdir ' + output_stac_catalog_dir)"
   ]
  },
  {
   "cell_type": "markdown",
   "id": "5b378fa0-14fe-4a30-bd7a-6833f44a7d64",
   "metadata": {},
   "source": [
    "# Run the GHG process\n",
    "Pass appropriate nc files into the ghg_process.py call"
   ]
  },
  {
   "cell_type": "code",
   "execution_count": 9,
   "id": "34de5e59-fd84-48b1-875c-f8782e664907",
   "metadata": {
    "editable": true,
    "slideshow": {
     "slide_type": ""
    },
    "tags": [
     "parameters"
    ]
   },
   "outputs": [
    {
     "name": "stderr",
     "output_type": "stream",
     "text": [
      "/home/gshen/micromamba/envs/isofit/lib/python3.10/site-packages/tqdm/auto.py:21: TqdmWarning: IProgress not found. Please update jupyter and ipywidgets. See https://ipywidgets.readthedocs.io/en/stable/user_install.html\n",
      "  from .autonotebook import tqdm as notebook_tqdm\n",
      "2024-10-02 09:17:14,368\tINFO util.py:159 -- Missing packages: ['ipywidgets']. Run `pip install -U ipywidgets`, then restart the notebook server for rich notebook output.\n",
      "/home/gshen/micromamba/envs/isofit/lib/python3.10/site-packages/osgeo/gdal.py:287: FutureWarning: Neither gdal.UseExceptions() nor gdal.DontUseExceptions() has been explicitly called. In GDAL 4.0, exceptions will be enabled by default.\n",
      "  warnings.warn(\n",
      "INFO:2024-10-02,09:17:35 ||| starting parallel mf\n",
      "INFO:2024-10-02,09:17:35 ||| Started processing input file: \"/home/gshen/test_data/EMIT_L1B/EMIT_L1B_RAD_001_20230620T084426_2317106_011.nc\"\n",
      "INFO:2024-10-02,09:17:41 ||| Active wavelength range: [500.0, 2450.0]: 255 channels\n",
      "INFO:2024-10-02,09:17:41 ||| load target library\n",
      "INFO:2024-10-02,09:17:41 ||| Create output file, initialized with nodata\n",
      "2024-10-02 09:17:43,544\tINFO worker.py:1621 -- Started a local Ray instance.\n",
      "INFO:2024-10-02,09:17:45 ||| load radiance for chunk 1 / 1\n",
      "INFO:2024-10-02,09:17:46 ||| load masks\n",
      "INFO:2024-10-02,09:17:48 ||| writing flare locations to process_results/test_output_flares.json\n",
      "INFO:2024-10-02,09:17:48 ||| initializing ray, adding data to shared memory\n",
      "INFO:2024-10-02,09:17:49 ||| Run jobs\n",
      "\u001b[2m\u001b[36m(mf_one_column pid=414700)\u001b[0m DEBUG:2024-10-02,09:17:49 ||| Col: 2\n",
      "\u001b[2m\u001b[36m(mf_one_column pid=414700)\u001b[0m DEBUG:2024-10-02,09:17:50 ||| Column 2 mean: -1.5984369383659213e-11\n",
      "\u001b[2m\u001b[36m(mf_one_column pid=414700)\u001b[0m DEBUG:2024-10-02,09:17:50 ||| Col: 3\n",
      "\u001b[2m\u001b[36m(mf_one_column pid=414700)\u001b[0m DEBUG:2024-10-02,09:17:50 ||| Column 3 mean: -4.623264734012385e-13\n",
      "\u001b[2m\u001b[36m(mf_one_column pid=414700)\u001b[0m DEBUG:2024-10-02,09:17:50 ||| Col: 6\n",
      "\u001b[2m\u001b[36m(mf_one_column pid=414700)\u001b[0m DEBUG:2024-10-02,09:17:50 ||| Column 6 mean: -1.9175179962379238e-12\n",
      "\u001b[2m\u001b[36m(mf_one_column pid=414700)\u001b[0m DEBUG:2024-10-02,09:17:50 ||| Col: 9\n",
      "\u001b[2m\u001b[36m(mf_one_column pid=414700)\u001b[0m DEBUG:2024-10-02,09:17:50 ||| Column 9 mean: 8.86757334228605e-13\n",
      "\u001b[2m\u001b[36m(mf_one_column pid=414700)\u001b[0m DEBUG:2024-10-02,09:17:50 ||| Col: 12\n",
      "\u001b[2m\u001b[36m(mf_one_column pid=414700)\u001b[0m DEBUG:2024-10-02,09:17:50 ||| Column 12 mean: -1.2899666520146032e-11\n",
      "\u001b[2m\u001b[36m(mf_one_column pid=414700)\u001b[0m DEBUG:2024-10-02,09:17:50 ||| Col: 15\n",
      "\u001b[2m\u001b[36m(mf_one_column pid=414700)\u001b[0m DEBUG:2024-10-02,09:17:50 ||| Column 15 mean: 1.2839033540027837e-11\n",
      "\u001b[2m\u001b[36m(mf_one_column pid=414700)\u001b[0m DEBUG:2024-10-02,09:17:50 ||| Col: 17\n",
      "\u001b[2m\u001b[36m(mf_one_column pid=414700)\u001b[0m DEBUG:2024-10-02,09:17:50 ||| Column 17 mean: 5.229594535194337e-12\n",
      "\u001b[2m\u001b[36m(mf_one_column pid=414700)\u001b[0m DEBUG:2024-10-02,09:17:50 ||| Col: 20\n",
      "\u001b[2m\u001b[36m(mf_one_column pid=414700)\u001b[0m DEBUG:2024-10-02,09:17:50 ||| Column 20 mean: -4.087018032234832e-12\n",
      "\u001b[2m\u001b[36m(mf_one_column pid=414700)\u001b[0m DEBUG:2024-10-02,09:17:50 ||| Col: 23\n",
      "\u001b[2m\u001b[36m(mf_one_column pid=414700)\u001b[0m DEBUG:2024-10-02,09:17:50 ||| Column 23 mean: 1.8705242554826226e-12\n",
      "\u001b[2m\u001b[36m(mf_one_column pid=414700)\u001b[0m DEBUG:2024-10-02,09:17:50 ||| Col: 27\n",
      "\u001b[2m\u001b[36m(mf_one_column pid=414700)\u001b[0m DEBUG:2024-10-02,09:17:50 ||| Column 27 mean: 8.412825991399587e-13\n",
      "\u001b[2m\u001b[36m(mf_one_column pid=414700)\u001b[0m DEBUG:2024-10-02,09:17:50 ||| Col: 29\n",
      "\u001b[2m\u001b[36m(mf_one_column pid=414700)\u001b[0m DEBUG:2024-10-02,09:17:50 ||| Column 29 mean: -2.3654441368610908e-11\n",
      "\u001b[2m\u001b[36m(mf_one_column pid=414700)\u001b[0m DEBUG:2024-10-02,09:17:50 ||| Col: 32\n",
      "\u001b[2m\u001b[36m(mf_one_column pid=414700)\u001b[0m DEBUG:2024-10-02,09:17:50 ||| Column 32 mean: 1.3710632629226893e-11\n",
      "\u001b[2m\u001b[36m(mf_one_column pid=414700)\u001b[0m DEBUG:2024-10-02,09:17:50 ||| Col: 35\n",
      "\u001b[2m\u001b[36m(mf_one_column pid=414700)\u001b[0m DEBUG:2024-10-02,09:17:50 ||| Column 35 mean: 8.67809527941669e-12\n",
      "\u001b[2m\u001b[36m(mf_one_column pid=414700)\u001b[0m DEBUG:2024-10-02,09:17:50 ||| Col: 38\n",
      "\u001b[2m\u001b[36m(mf_one_column pid=414700)\u001b[0m DEBUG:2024-10-02,09:17:50 ||| Column 38 mean: 6.654469567971925e-12\n",
      "\u001b[2m\u001b[36m(mf_one_column pid=414700)\u001b[0m DEBUG:2024-10-02,09:17:50 ||| Col: 40\n",
      "\u001b[2m\u001b[36m(mf_one_column pid=414700)\u001b[0m DEBUG:2024-10-02,09:17:50 ||| Column 40 mean: 2.181271459752073e-11\n",
      "\u001b[2m\u001b[36m(mf_one_column pid=414700)\u001b[0m DEBUG:2024-10-02,09:17:50 ||| Col: 43\n",
      "\u001b[2m\u001b[36m(mf_one_column pid=414700)\u001b[0m DEBUG:2024-10-02,09:17:50 ||| Column 43 mean: -1.1330788159587732e-11\n",
      "\u001b[2m\u001b[36m(mf_one_column pid=414700)\u001b[0m DEBUG:2024-10-02,09:17:50 ||| Col: 46\n",
      "\u001b[2m\u001b[36m(mf_one_column pid=414700)\u001b[0m DEBUG:2024-10-02,09:17:50 ||| Column 46 mean: 2.243420264373223e-12\n",
      "\u001b[2m\u001b[36m(mf_one_column pid=414700)\u001b[0m DEBUG:2024-10-02,09:17:50 ||| Col: 49\n",
      "\u001b[2m\u001b[36m(mf_one_column pid=414700)\u001b[0m DEBUG:2024-10-02,09:17:51 ||| Column 49 mean: -2.1858189332609377e-11\n",
      "\u001b[2m\u001b[36m(mf_one_column pid=414700)\u001b[0m DEBUG:2024-10-02,09:17:51 ||| Col: 51\n",
      "\u001b[2m\u001b[36m(mf_one_column pid=414700)\u001b[0m DEBUG:2024-10-02,09:17:51 ||| Column 51 mean: 2.845960504297788e-12\n",
      "\u001b[2m\u001b[36m(mf_one_column pid=414700)\u001b[0m DEBUG:2024-10-02,09:17:51 ||| Col: 54\n",
      "\u001b[2m\u001b[36m(mf_one_column pid=414700)\u001b[0m DEBUG:2024-10-02,09:17:51 ||| Column 54 mean: 8.564408441695074e-13\n",
      "\u001b[2m\u001b[36m(mf_one_column pid=414700)\u001b[0m DEBUG:2024-10-02,09:17:51 ||| Col: 57\n",
      "\u001b[2m\u001b[36m(mf_one_column pid=414700)\u001b[0m DEBUG:2024-10-02,09:17:51 ||| Column 57 mean: 5.775291356258094e-12\n",
      "\u001b[2m\u001b[36m(mf_one_column pid=414700)\u001b[0m DEBUG:2024-10-02,09:17:51 ||| Col: 59\n",
      "\u001b[2m\u001b[36m(mf_one_column pid=414700)\u001b[0m DEBUG:2024-10-02,09:17:51 ||| Column 59 mean: 7.92018302793925e-12\n",
      "\u001b[2m\u001b[36m(mf_one_column pid=414700)\u001b[0m DEBUG:2024-10-02,09:17:51 ||| Col: 62\n",
      "\u001b[2m\u001b[36m(mf_one_column pid=414700)\u001b[0m DEBUG:2024-10-02,09:17:51 ||| Column 62 mean: 5.13106594250227e-12\n",
      "\u001b[2m\u001b[36m(mf_one_column pid=414700)\u001b[0m DEBUG:2024-10-02,09:17:51 ||| Col: 65\n",
      "\u001b[2m\u001b[36m(mf_one_column pid=414700)\u001b[0m DEBUG:2024-10-02,09:17:51 ||| Column 65 mean: -2.2214408090803773e-11\n",
      "\u001b[2m\u001b[36m(mf_one_column pid=414700)\u001b[0m DEBUG:2024-10-02,09:17:51 ||| Col: 67\n",
      "\u001b[2m\u001b[36m(mf_one_column pid=414700)\u001b[0m DEBUG:2024-10-02,09:17:51 ||| Column 67 mean: 2.053942201503863e-12\n",
      "\u001b[2m\u001b[36m(mf_one_column pid=414700)\u001b[0m DEBUG:2024-10-02,09:17:51 ||| Col: 69\n",
      "\u001b[2m\u001b[36m(mf_one_column pid=414700)\u001b[0m DEBUG:2024-10-02,09:17:51 ||| Column 69 mean: -7.404802696934591e-12\n",
      "\u001b[2m\u001b[36m(mf_one_column pid=414700)\u001b[0m DEBUG:2024-10-02,09:17:51 ||| Col: 73\n",
      "\u001b[2m\u001b[36m(mf_one_column pid=414700)\u001b[0m DEBUG:2024-10-02,09:17:51 ||| Column 73 mean: -1.3430205096180241e-11\n",
      "\u001b[2m\u001b[36m(mf_one_column pid=414700)\u001b[0m DEBUG:2024-10-02,09:17:51 ||| Col: 76\n",
      "\u001b[2m\u001b[36m(mf_one_column pid=414700)\u001b[0m DEBUG:2024-10-02,09:17:51 ||| Column 76 mean: 6.298250809777528e-12\n",
      "\u001b[2m\u001b[36m(mf_one_column pid=414700)\u001b[0m DEBUG:2024-10-02,09:17:51 ||| Col: 79\n",
      "\u001b[2m\u001b[36m(mf_one_column pid=414700)\u001b[0m DEBUG:2024-10-02,09:17:51 ||| Column 79 mean: -3.941143707682689e-13\n",
      "\u001b[2m\u001b[36m(mf_one_column pid=414700)\u001b[0m DEBUG:2024-10-02,09:17:51 ||| Col: 82\n",
      "\u001b[2m\u001b[36m(mf_one_column pid=414700)\u001b[0m DEBUG:2024-10-02,09:17:51 ||| Column 82 mean: 3.819877747446299e-12\n",
      "\u001b[2m\u001b[36m(mf_one_column pid=414700)\u001b[0m DEBUG:2024-10-02,09:17:51 ||| Col: 84\n",
      "\u001b[2m\u001b[36m(mf_one_column pid=414700)\u001b[0m DEBUG:2024-10-02,09:17:51 ||| Column 84 mean: 2.7254524563128748e-11\n",
      "\u001b[2m\u001b[36m(mf_one_column pid=414700)\u001b[0m DEBUG:2024-10-02,09:17:51 ||| Col: 86\n",
      "\u001b[2m\u001b[36m(mf_one_column pid=414700)\u001b[0m DEBUG:2024-10-02,09:17:51 ||| Column 86 mean: -9.413270163349807e-12\n",
      "\u001b[2m\u001b[36m(mf_one_column pid=414700)\u001b[0m DEBUG:2024-10-02,09:17:51 ||| Col: 89\n",
      "\u001b[2m\u001b[36m(mf_one_column pid=414700)\u001b[0m DEBUG:2024-10-02,09:17:51 ||| Column 89 mean: -1.3339255626002947e-12\n",
      "\u001b[2m\u001b[36m(mf_one_column pid=414700)\u001b[0m DEBUG:2024-10-02,09:17:51 ||| Col: 92\n",
      "\u001b[2m\u001b[36m(mf_one_column pid=414700)\u001b[0m DEBUG:2024-10-02,09:17:51 ||| Column 92 mean: -8.579566686724623e-12\n",
      "\u001b[2m\u001b[36m(mf_one_column pid=414700)\u001b[0m DEBUG:2024-10-02,09:17:51 ||| Col: 95\n",
      "\u001b[2m\u001b[36m(mf_one_column pid=414700)\u001b[0m DEBUG:2024-10-02,09:17:51 ||| Column 95 mean: -1.2831454417513062e-11\n",
      "\u001b[2m\u001b[36m(mf_one_column pid=414700)\u001b[0m DEBUG:2024-10-02,09:17:51 ||| Col: 97\n",
      "\u001b[2m\u001b[36m(mf_one_column pid=414700)\u001b[0m DEBUG:2024-10-02,09:17:51 ||| Column 97 mean: -7.427540064478913e-12\n",
      "\u001b[2m\u001b[36m(mf_one_column pid=414700)\u001b[0m DEBUG:2024-10-02,09:17:51 ||| Col: 99\n",
      "\u001b[2m\u001b[36m(mf_one_column pid=414700)\u001b[0m DEBUG:2024-10-02,09:17:51 ||| Column 99 mean: -1.7237722314311517e-11\n",
      "\u001b[2m\u001b[36m(mf_one_column pid=414700)\u001b[0m DEBUG:2024-10-02,09:17:51 ||| Col: 103\n",
      "\u001b[2m\u001b[36m(mf_one_column pid=414700)\u001b[0m DEBUG:2024-10-02,09:17:51 ||| Column 103 mean: 4.464103161202123e-12\n",
      "\u001b[2m\u001b[36m(mf_one_column pid=414700)\u001b[0m DEBUG:2024-10-02,09:17:51 ||| Col: 106\n",
      "\u001b[2m\u001b[36m(mf_one_column pid=414700)\u001b[0m DEBUG:2024-10-02,09:17:51 ||| Column 106 mean: 2.804275330466529e-13\n",
      "\u001b[2m\u001b[36m(mf_one_column pid=414700)\u001b[0m DEBUG:2024-10-02,09:17:51 ||| Col: 109\n",
      "\u001b[2m\u001b[36m(mf_one_column pid=414700)\u001b[0m DEBUG:2024-10-02,09:17:52 ||| Column 109 mean: 1.2937562132719904e-11\n",
      "\u001b[2m\u001b[36m(mf_one_column pid=414700)\u001b[0m DEBUG:2024-10-02,09:17:52 ||| Col: 112\n",
      "\u001b[2m\u001b[36m(mf_one_column pid=414700)\u001b[0m DEBUG:2024-10-02,09:17:52 ||| Column 112 mean: -1.8235368770547212e-11\n",
      "\u001b[2m\u001b[36m(mf_one_column pid=414700)\u001b[0m DEBUG:2024-10-02,09:17:52 ||| Col: 115\n",
      "\u001b[2m\u001b[36m(mf_one_column pid=414700)\u001b[0m DEBUG:2024-10-02,09:17:52 ||| Column 115 mean: -9.686118573881686e-12\n",
      "\u001b[2m\u001b[36m(mf_one_column pid=414700)\u001b[0m DEBUG:2024-10-02,09:17:52 ||| Col: 118\n",
      "\u001b[2m\u001b[36m(mf_one_column pid=414700)\u001b[0m DEBUG:2024-10-02,09:17:52 ||| Column 118 mean: -3.031649005909761e-12\n",
      "\u001b[2m\u001b[36m(mf_one_column pid=414700)\u001b[0m DEBUG:2024-10-02,09:17:52 ||| Col: 121\n",
      "\u001b[2m\u001b[36m(mf_one_column pid=414700)\u001b[0m DEBUG:2024-10-02,09:17:52 ||| Column 121 mean: -5.532759435785313e-12\n",
      "\u001b[2m\u001b[36m(mf_one_column pid=414700)\u001b[0m DEBUG:2024-10-02,09:17:52 ||| Col: 124\n",
      "\u001b[2m\u001b[36m(mf_one_column pid=414700)\u001b[0m DEBUG:2024-10-02,09:17:52 ||| Column 124 mean: -1.6295113406764965e-12\n",
      "\u001b[2m\u001b[36m(mf_one_column pid=414700)\u001b[0m DEBUG:2024-10-02,09:17:52 ||| Col: 127\n",
      "\u001b[2m\u001b[36m(mf_one_column pid=414700)\u001b[0m DEBUG:2024-10-02,09:17:52 ||| Column 127 mean: -2.2282620193436743e-12\n",
      "\u001b[2m\u001b[36m(mf_one_column pid=414700)\u001b[0m DEBUG:2024-10-02,09:17:52 ||| Col: 130\n",
      "\u001b[2m\u001b[36m(mf_one_column pid=414700)\u001b[0m DEBUG:2024-10-02,09:17:52 ||| Column 130 mean: -1.1959855328314007e-11\n",
      "\u001b[2m\u001b[36m(mf_one_column pid=414700)\u001b[0m DEBUG:2024-10-02,09:17:52 ||| Col: 132\n",
      "\u001b[2m\u001b[36m(mf_one_column pid=414700)\u001b[0m DEBUG:2024-10-02,09:17:52 ||| Column 132 mean: -2.190366406769802e-12\n",
      "\u001b[2m\u001b[36m(mf_one_column pid=414700)\u001b[0m DEBUG:2024-10-02,09:17:52 ||| Col: 134\n",
      "\u001b[2m\u001b[36m(mf_one_column pid=414700)\u001b[0m DEBUG:2024-10-02,09:17:52 ||| Column 134 mean: 4.903692267059038e-12\n",
      "\u001b[2m\u001b[36m(mf_one_column pid=414700)\u001b[0m DEBUG:2024-10-02,09:17:52 ||| Col: 137\n",
      "\u001b[2m\u001b[36m(mf_one_column pid=414700)\u001b[0m DEBUG:2024-10-02,09:17:52 ||| Column 137 mean: 5.229594535194337e-13\n",
      "\u001b[2m\u001b[36m(mf_one_column pid=414700)\u001b[0m DEBUG:2024-10-02,09:17:52 ||| Col: 141\n",
      "\u001b[2m\u001b[36m(mf_one_column pid=414700)\u001b[0m DEBUG:2024-10-02,09:17:52 ||| Column 141 mean: -4.8127427968817455e-12\n",
      "\u001b[2m\u001b[36m(mf_one_column pid=414700)\u001b[0m DEBUG:2024-10-02,09:17:52 ||| Col: 143\n",
      "\u001b[2m\u001b[36m(mf_one_column pid=414700)\u001b[0m DEBUG:2024-10-02,09:17:52 ||| Column 143 mean: 1.68607786048927e-12\n",
      "\u001b[2m\u001b[36m(mf_one_column pid=414700)\u001b[0m DEBUG:2024-10-02,09:17:52 ||| Col: 147\n",
      "\u001b[2m\u001b[36m(mf_one_column pid=414700)\u001b[0m DEBUG:2024-10-02,09:17:52 ||| Column 147 mean: 1.4157389893708314e-11\n",
      "\u001b[2m\u001b[36m(mf_one_column pid=414700)\u001b[0m DEBUG:2024-10-02,09:17:52 ||| Col: 149\n",
      "\u001b[2m\u001b[36m(mf_one_column pid=414700)\u001b[0m DEBUG:2024-10-02,09:17:52 ||| Column 149 mean: -6.904193356524418e-12\n",
      "\u001b[2m\u001b[36m(mf_one_column pid=414700)\u001b[0m DEBUG:2024-10-02,09:17:52 ||| Col: 152\n",
      "\u001b[2m\u001b[36m(mf_one_column pid=414700)\u001b[0m DEBUG:2024-10-02,09:17:52 ||| Column 152 mean: 6.571099220309406e-12\n",
      "\u001b[2m\u001b[36m(mf_one_column pid=414700)\u001b[0m DEBUG:2024-10-02,09:17:52 ||| Col: 155\n",
      "\u001b[2m\u001b[36m(mf_one_column pid=414700)\u001b[0m DEBUG:2024-10-02,09:17:52 ||| Column 155 mean: 3.0998611085427303e-12\n",
      "\u001b[2m\u001b[36m(mf_one_column pid=414700)\u001b[0m DEBUG:2024-10-02,09:17:52 ||| Col: 157\n",
      "\u001b[2m\u001b[36m(mf_one_column pid=414700)\u001b[0m DEBUG:2024-10-02,09:17:52 ||| Column 157 mean: 1.6084494413001943e-12\n",
      "\u001b[2m\u001b[36m(mf_one_column pid=414700)\u001b[0m DEBUG:2024-10-02,09:17:52 ||| Col: 160\n",
      "\u001b[2m\u001b[36m(mf_one_column pid=414700)\u001b[0m DEBUG:2024-10-02,09:17:52 ||| Column 160 mean: -4.395891058569153e-13\n",
      "\u001b[2m\u001b[36m(mf_one_column pid=414700)\u001b[0m DEBUG:2024-10-02,09:17:52 ||| Col: 163\n",
      "\u001b[2m\u001b[36m(mf_one_column pid=414700)\u001b[0m DEBUG:2024-10-02,09:17:52 ||| Column 163 mean: 2.575795213780264e-12\n",
      "\u001b[2m\u001b[36m(mf_one_column pid=414700)\u001b[0m DEBUG:2024-10-02,09:17:52 ||| Col: 166\n",
      "\u001b[2m\u001b[36m(mf_one_column pid=414700)\u001b[0m DEBUG:2024-10-02,09:17:52 ||| Column 166 mean: 1.0512242927992096e-11\n",
      "\u001b[2m\u001b[36m(mf_one_column pid=414700)\u001b[0m DEBUG:2024-10-02,09:17:52 ||| Col: 169\n",
      "\u001b[2m\u001b[36m(mf_one_column pid=414700)\u001b[0m DEBUG:2024-10-02,09:17:53 ||| Column 169 mean: -1.5980579822401826e-11\n",
      "\u001b[2m\u001b[36m(mf_one_column pid=414700)\u001b[0m DEBUG:2024-10-02,09:17:53 ||| Col: 172\n",
      "\u001b[2m\u001b[36m(mf_one_column pid=414700)\u001b[0m DEBUG:2024-10-02,09:17:53 ||| Column 172 mean: -3.2211270687791207e-12\n",
      "\u001b[2m\u001b[36m(mf_one_column pid=414700)\u001b[0m DEBUG:2024-10-02,09:17:53 ||| Col: 174\n",
      "\u001b[2m\u001b[36m(mf_one_column pid=414700)\u001b[0m DEBUG:2024-10-02,09:17:53 ||| Column 174 mean: 1.129289254701386e-12\n",
      "\u001b[2m\u001b[36m(mf_one_column pid=414700)\u001b[0m DEBUG:2024-10-02,09:17:53 ||| Col: 176\n",
      "\u001b[2m\u001b[36m(mf_one_column pid=414700)\u001b[0m DEBUG:2024-10-02,09:17:53 ||| Column 176 mean: 2.106996059107284e-12\n",
      "\u001b[2m\u001b[36m(mf_one_column pid=414700)\u001b[0m DEBUG:2024-10-02,09:17:53 ||| Col: 179\n",
      "\u001b[2m\u001b[36m(mf_one_column pid=414700)\u001b[0m DEBUG:2024-10-02,09:17:53 ||| Column 179 mean: 2.2282620193436743e-12\n",
      "\u001b[2m\u001b[36m(mf_one_column pid=414700)\u001b[0m DEBUG:2024-10-02,09:17:53 ||| Col: 183\n",
      "\u001b[2m\u001b[36m(mf_one_column pid=414700)\u001b[0m DEBUG:2024-10-02,09:17:53 ||| Column 183 mean: 1.6560382694782068e-12\n",
      "\u001b[2m\u001b[36m(mf_one_column pid=414700)\u001b[0m DEBUG:2024-10-02,09:17:53 ||| Col: 186\n",
      "\u001b[2m\u001b[36m(mf_one_column pid=414700)\u001b[0m DEBUG:2024-10-02,09:17:53 ||| Column 186 mean: -1.241460267920047e-11\n",
      "\u001b[2m\u001b[36m(mf_one_column pid=414700)\u001b[0m DEBUG:2024-10-02,09:17:53 ||| Col: 190\n",
      "\u001b[2m\u001b[36m(mf_one_column pid=414700)\u001b[0m DEBUG:2024-10-02,09:17:53 ||| Column 190 mean: -8.42040511391436e-12\n",
      "\u001b[2m\u001b[36m(mf_one_column pid=414700)\u001b[0m DEBUG:2024-10-02,09:17:53 ||| Col: 193\n",
      "\u001b[2m\u001b[36m(mf_one_column pid=414700)\u001b[0m DEBUG:2024-10-02,09:17:53 ||| Column 193 mean: 8.223347928530226e-13\n",
      "\u001b[2m\u001b[36m(mf_one_column pid=414700)\u001b[0m DEBUG:2024-10-02,09:17:53 ||| Col: 196\n",
      "\u001b[2m\u001b[36m(mf_one_column pid=414700)\u001b[0m DEBUG:2024-10-02,09:17:53 ||| Column 196 mean: 3.1529149661461513e-12\n",
      "\u001b[2m\u001b[36m(mf_one_column pid=414700)\u001b[0m DEBUG:2024-10-02,09:17:53 ||| Col: 199\n",
      "\u001b[2m\u001b[36m(mf_one_column pid=414700)\u001b[0m DEBUG:2024-10-02,09:17:53 ||| Column 199 mean: -2.622376390111943e-12\n",
      "\u001b[2m\u001b[36m(mf_one_column pid=414700)\u001b[0m DEBUG:2024-10-02,09:17:53 ||| Col: 202\n",
      "\u001b[2m\u001b[36m(mf_one_column pid=414700)\u001b[0m DEBUG:2024-10-02,09:17:53 ||| Column 202 mean: 4.4716822837168974e-12\n",
      "\u001b[2m\u001b[36m(mf_one_column pid=414700)\u001b[0m DEBUG:2024-10-02,09:17:53 ||| Col: 205\n",
      "\u001b[2m\u001b[36m(mf_one_column pid=414700)\u001b[0m DEBUG:2024-10-02,09:17:53 ||| Column 205 mean: -6.328567299836625e-13\n",
      "\u001b[2m\u001b[36m(mf_one_column pid=414700)\u001b[0m DEBUG:2024-10-02,09:17:53 ||| Col: 208\n",
      "\u001b[2m\u001b[36m(mf_one_column pid=414700)\u001b[0m DEBUG:2024-10-02,09:17:53 ||| Column 208 mean: 6.824999824554349e-12\n",
      "\u001b[2m\u001b[36m(mf_one_column pid=414700)\u001b[0m DEBUG:2024-10-02,09:17:53 ||| Col: 211\n",
      "\u001b[2m\u001b[36m(mf_one_column pid=414700)\u001b[0m DEBUG:2024-10-02,09:17:53 ||| Column 211 mean: -5.074222523641462e-12\n",
      "\u001b[2m\u001b[36m(mf_one_column pid=414700)\u001b[0m DEBUG:2024-10-02,09:17:53 ||| Col: 215\n",
      "\u001b[2m\u001b[36m(mf_one_column pid=414700)\u001b[0m DEBUG:2024-10-02,09:17:53 ||| Column 215 mean: 1.6674069532503684e-12\n",
      "\u001b[2m\u001b[36m(mf_one_column pid=414700)\u001b[0m DEBUG:2024-10-02,09:17:53 ||| Col: 219\n",
      "\u001b[2m\u001b[36m(mf_one_column pid=414700)\u001b[0m DEBUG:2024-10-02,09:17:53 ||| Column 219 mean: -8.770601670485966e-12\n",
      "\u001b[2m\u001b[36m(mf_one_column pid=414700)\u001b[0m DEBUG:2024-10-02,09:17:53 ||| Col: 220\n",
      "\u001b[2m\u001b[36m(mf_one_column pid=414700)\u001b[0m DEBUG:2024-10-02,09:17:53 ||| Column 220 mean: -1.7128816883390147e-11\n",
      "\u001b[2m\u001b[36m(mf_one_column pid=414700)\u001b[0m DEBUG:2024-10-02,09:17:53 ||| Col: 223\n",
      "\u001b[2m\u001b[36m(mf_one_column pid=414700)\u001b[0m DEBUG:2024-10-02,09:17:53 ||| Column 223 mean: -8.784202994623532e-12\n",
      "\u001b[2m\u001b[36m(mf_one_column pid=414700)\u001b[0m DEBUG:2024-10-02,09:17:53 ||| Col: 226\n",
      "\u001b[2m\u001b[36m(mf_one_column pid=414700)\u001b[0m DEBUG:2024-10-02,09:17:53 ||| Column 226 mean: 1.2520710394407313e-11\n",
      "\u001b[2m\u001b[36m(mf_one_column pid=414700)\u001b[0m DEBUG:2024-10-02,09:17:54 ||| Col: 229\n",
      "\u001b[2m\u001b[36m(mf_one_column pid=414700)\u001b[0m DEBUG:2024-10-02,09:17:54 ||| Column 229 mean: 1.1596057447604834e-12\n",
      "\u001b[2m\u001b[36m(mf_one_column pid=414700)\u001b[0m DEBUG:2024-10-02,09:17:54 ||| Col: 232\n",
      "\u001b[2m\u001b[36m(mf_one_column pid=414700)\u001b[0m DEBUG:2024-10-02,09:17:54 ||| Column 232 mean: 4.683897714130581e-12\n",
      "\u001b[2m\u001b[36m(mf_one_column pid=414700)\u001b[0m DEBUG:2024-10-02,09:17:54 ||| Col: 235\n",
      "\u001b[2m\u001b[36m(mf_one_column pid=414700)\u001b[0m DEBUG:2024-10-02,09:17:54 ||| Column 235 mean: 8.16271494841203e-12\n",
      "\u001b[2m\u001b[36m(mf_one_column pid=414700)\u001b[0m DEBUG:2024-10-02,09:17:54 ||| Col: 239\n",
      "\u001b[2m\u001b[36m(mf_one_column pid=414700)\u001b[0m DEBUG:2024-10-02,09:17:54 ||| Column 239 mean: -1.4627706453514596e-12\n",
      "\u001b[2m\u001b[36m(mf_one_column pid=414700)\u001b[0m DEBUG:2024-10-02,09:17:54 ||| Col: 241\n",
      "\u001b[2m\u001b[36m(mf_one_column pid=414700)\u001b[0m DEBUG:2024-10-02,09:17:54 ||| Column 241 mean: 2.4935313073607783e-12\n",
      "\u001b[2m\u001b[36m(mf_one_column pid=414700)\u001b[0m DEBUG:2024-10-02,09:17:54 ||| Col: 244\n",
      "\u001b[2m\u001b[36m(mf_one_column pid=414700)\u001b[0m DEBUG:2024-10-02,09:17:54 ||| Column 244 mean: -1.3521154566357534e-11\n",
      "\u001b[2m\u001b[36m(mf_one_column pid=414700)\u001b[0m DEBUG:2024-10-02,09:17:54 ||| Col: 246\n",
      "\u001b[2m\u001b[36m(mf_one_column pid=414700)\u001b[0m DEBUG:2024-10-02,09:17:54 ||| Column 246 mean: 6.3778315961826594e-12\n",
      "\u001b[2m\u001b[36m(mf_one_column pid=414700)\u001b[0m DEBUG:2024-10-02,09:17:54 ||| Col: 249\n",
      "\u001b[2m\u001b[36m(mf_one_column pid=414700)\u001b[0m DEBUG:2024-10-02,09:17:54 ||| Column 249 mean: 6.017823276730875e-12\n",
      "\u001b[2m\u001b[36m(mf_one_column pid=414700)\u001b[0m DEBUG:2024-10-02,09:17:54 ||| Col: 252\n",
      "\u001b[2m\u001b[36m(mf_one_column pid=414700)\u001b[0m DEBUG:2024-10-02,09:17:54 ||| Column 252 mean: -1.2581343374525507e-12\n",
      "\u001b[2m\u001b[36m(mf_one_column pid=414700)\u001b[0m DEBUG:2024-10-02,09:17:54 ||| Col: 255\n",
      "\u001b[2m\u001b[36m(mf_one_column pid=414700)\u001b[0m DEBUG:2024-10-02,09:17:54 ||| Column 255 mean: -3.979039320256561e-13\n",
      "\u001b[2m\u001b[36m(mf_one_column pid=414700)\u001b[0m DEBUG:2024-10-02,09:17:54 ||| Col: 259\n",
      "\u001b[2m\u001b[36m(mf_one_column pid=414700)\u001b[0m DEBUG:2024-10-02,09:17:54 ||| Column 259 mean: 1.9554136088117956e-12\n",
      "\u001b[2m\u001b[36m(mf_one_column pid=414700)\u001b[0m DEBUG:2024-10-02,09:17:54 ||| Col: 263\n",
      "\u001b[2m\u001b[36m(mf_one_column pid=414700)\u001b[0m DEBUG:2024-10-02,09:17:54 ||| Column 263 mean: -5.34707093417334e-12\n",
      "\u001b[2m\u001b[36m(mf_one_column pid=414700)\u001b[0m DEBUG:2024-10-02,09:17:54 ||| Col: 265\n",
      "\u001b[2m\u001b[36m(mf_one_column pid=414700)\u001b[0m DEBUG:2024-10-02,09:17:54 ||| Column 265 mean: 1.1141310096718371e-11\n",
      "\u001b[2m\u001b[36m(mf_one_column pid=414700)\u001b[0m DEBUG:2024-10-02,09:17:54 ||| Col: 268\n",
      "\u001b[2m\u001b[36m(mf_one_column pid=414700)\u001b[0m DEBUG:2024-10-02,09:17:54 ||| Column 268 mean: 2.470793939816455e-12\n",
      "\u001b[2m\u001b[36m(mf_one_column pid=414700)\u001b[0m DEBUG:2024-10-02,09:17:54 ||| Col: 271\n",
      "\u001b[2m\u001b[36m(mf_one_column pid=414700)\u001b[0m DEBUG:2024-10-02,09:17:54 ||| Column 271 mean: -1.3255885278340428e-11\n",
      "\u001b[2m\u001b[36m(mf_one_column pid=414700)\u001b[0m DEBUG:2024-10-02,09:17:54 ||| Col: 274\n",
      "\u001b[2m\u001b[36m(mf_one_column pid=414700)\u001b[0m DEBUG:2024-10-02,09:17:54 ||| Column 274 mean: -9.928650494354466e-13\n",
      "\u001b[2m\u001b[36m(mf_one_column pid=414700)\u001b[0m DEBUG:2024-10-02,09:17:57 ||| Too few good pixels found in col {col}: skipping\n",
      "\u001b[2m\u001b[36m(mf_one_column pid=414700)\u001b[0m DEBUG:2024-10-02,09:17:57 ||| Too few good pixels found in col {col}: skipping\n",
      "\u001b[2m\u001b[36m(mf_one_column pid=414702)\u001b[0m DEBUG:2024-10-02,09:17:59 ||| Col: 548\u001b[32m [repeated 453x across cluster] (Ray deduplicates logs by default. Set RAY_DEDUP_LOGS=0 to disable log deduplication, or see https://docs.ray.io/en/master/ray-observability/ray-logging.html#log-deduplication for more options.)\u001b[0m\n",
      "\u001b[2m\u001b[36m(mf_one_column pid=414700)\u001b[0m DEBUG:2024-10-02,09:17:59 ||| Column 546 mean: 9.494745730383632e-12\u001b[32m [repeated 430x across cluster]\u001b[0m\n",
      "\u001b[2m\u001b[36m(mf_one_column pid=414702)\u001b[0m DEBUG:2024-10-02,09:17:57 ||| Too few good pixels found in col {col}: skipping\u001b[32m [repeated 19x across cluster]\u001b[0m\n",
      "\u001b[2m\u001b[36m(mf_one_column pid=414700)\u001b[0m DEBUG:2024-10-02,09:18:04 ||| Col: 858\u001b[32m [repeated 308x across cluster]\u001b[0m\n",
      "\u001b[2m\u001b[36m(mf_one_column pid=414700)\u001b[0m DEBUG:2024-10-02,09:18:04 ||| Column 858 mean: -1.0683480516654887e-12\u001b[32m [repeated 310x across cluster]\u001b[0m\n",
      "\u001b[2m\u001b[36m(mf_one_column pid=414700)\u001b[0m DEBUG:2024-10-02,09:18:09 ||| Col: 1157\u001b[32m [repeated 301x across cluster]\u001b[0m\n",
      "\u001b[2m\u001b[36m(mf_one_column pid=414700)\u001b[0m DEBUG:2024-10-02,09:18:09 ||| Column 1157 mean: -3.640178310602651e-12\u001b[32m [repeated 301x across cluster]\u001b[0m\n",
      "INFO:2024-10-02,09:18:10 ||| Collecting and writing output\n",
      "INFO:2024-10-02,09:18:10 ||| Masking clouds and water\n",
      "INFO:2024-10-02,09:18:10 ||| Masking saturation\n",
      "INFO:2024-10-02,09:18:10 ||| Complete\n",
      "Traceback (most recent call last):\n",
      "  File \"/home/gshen/build_test/emit-ghg/apply_glt.py\", line 24, in <module>\n",
      "    from emit_utils.file_checks import envi_header\n",
      "ModuleNotFoundError: No module named 'emit_utils'\n"
     ]
    }
   ],
   "source": [
    "sys.argv = ['ghg_process.py', l1b_rad_filename, l1b_obs_filename, l1b_rad_filename, 'blah.img', l2a_mask_filename, l2a_mask_filename, output_stac_catalog_dir+'/'+output_filename_prefix, '--state_subs', l2a_mask_filename, '--overwrite']\n",
    "exec(open(\"./ghg_process.py\").read())"
   ]
  },
  {
   "cell_type": "markdown",
   "id": "e1b66456-1664-4efa-8f94-d11d751661ff",
   "metadata": {
    "editable": true,
    "slideshow": {
     "slide_type": ""
    },
    "tags": [
     "parameters"
    ]
   },
   "source": [
    "# Create stage-out item catalog"
   ]
  },
  {
   "cell_type": "code",
   "execution_count": 12,
   "id": "cd5b2c94-bc8b-4a2a-879a-0a053e1dbf00",
   "metadata": {
    "editable": true,
    "slideshow": {
     "slide_type": ""
    },
    "tags": []
   },
   "outputs": [],
   "source": [
    "# Create a collection\n",
    "out_collection  = Collection(output_collection)\n",
    "\n",
    "# Create Datasets for the MF output file\n",
    "start_time=datetime.utcnow().replace(tzinfo=timezone.utc).isoformat()\n",
    "end_time=datetime.utcnow().replace(tzinfo=timezone.utc).isoformat()\n",
    "creation_time=datetime.utcnow().replace(tzinfo=timezone.utc).isoformat()\n",
    "\n",
    "mf_envi_file = output_filename_prefix + '_ch4_mf'\n",
    "dataset = Dataset(\n",
    "    name=mf_envi_file, \n",
    "    collection_id=out_collection.collection_id, \n",
    "    start_time=start_time, \n",
    "    end_time=end_time,\n",
    "    creation_time=creation_time,\n",
    ")\n",
    "dataset.add_data_file(DataFile(\"data\", mf_envi_file, [\"data_envi\"])) # Add output file(s) to the dataset\n",
    "\n",
    "mf_envi_hdr = output_filename_prefix + '_ch4_mf.hdr'\n",
    "dataset.add_data_file(DataFile(\"data\", mf_envi_hdr, [\"data_envi_hdr\"])) # Add output file(s) to the dataset\n",
    "\n",
    "catalog_target = output_filename_prefix + '_ch4_mf.json'\n",
    "dataset.add_data_file(DataFile(\"json\", catalog_target, [\"metadata\"])) # Add output file(s) to the dataset\n",
    "\n",
    "# Add the dataset to the collection\n",
    "#out_collection.add_dataset(dataset)\n",
    "out_collection._datasets.append(dataset)\n",
    "\n",
    "Collection.to_stac(out_collection, output_stac_catalog_dir)"
   ]
  },
  {
   "cell_type": "code",
   "execution_count": 13,
   "id": "d3434049-4e9f-40e3-9801-81eaac947cd1",
   "metadata": {},
   "outputs": [
    {
     "data": {
      "text/plain": [
       "['test_output_ch4_mf', 'test_output_ch4_mf.hdr', 'test_output_ch4_mf.json']"
      ]
     },
     "execution_count": 13,
     "metadata": {},
     "output_type": "execute_result"
    }
   ],
   "source": [
    "out_collection.data_locations()"
   ]
  },
  {
   "cell_type": "code",
   "execution_count": null,
   "id": "f4623f6a-f125-4969-a73d-109181c9c526",
   "metadata": {},
   "outputs": [],
   "source": []
  }
 ],
 "metadata": {
  "kernelspec": {
   "display_name": "Python 3 (ipykernel)",
   "language": "python",
   "name": "python3"
  },
  "language_info": {
   "codemirror_mode": {
    "name": "ipython",
    "version": 3
   },
   "file_extension": ".py",
   "mimetype": "text/x-python",
   "name": "python",
   "nbconvert_exporter": "python",
   "pygments_lexer": "ipython3",
   "version": "3.10.12"
  }
 },
 "nbformat": 4,
 "nbformat_minor": 5
}
