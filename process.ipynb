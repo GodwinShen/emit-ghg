{
 "cells": [
  {
   "cell_type": "code",
   "execution_count": 7,
   "id": "4af10378-a5a7-4efa-bce2-16e29c670d94",
   "metadata": {},
   "outputs": [],
   "source": [
    "import os, re, sys\n",
    "\n",
    "# stage_in packages\n",
    "from unity_sds_client.resources.collection import Collection\n",
    "\n",
    "# stage_out packages\n",
    "from datetime import datetime, timezone\n",
    "from unity_sds_client.resources.dataset import Dataset\n",
    "from unity_sds_client.resources.data_file import DataFile"
   ]
  },
  {
   "cell_type": "code",
   "execution_count": 8,
   "id": "adc38c06-04eb-4b42-9322-2cabc22b58ec",
   "metadata": {},
   "outputs": [],
   "source": [
    "input_stac_collection_file = 'test/stage_in/catalog.json' # type: stage-in\n",
    "output_stac_catalog_dir    = 'process_results/'                    # type: stage-out"
   ]
  },
  {
   "cell_type": "code",
   "execution_count": 9,
   "id": "e5472906-9768-499e-b904-8234bb6dbfa7",
   "metadata": {},
   "outputs": [
    {
     "name": "stdout",
     "output_type": "stream",
     "text": [
      "if2\n"
     ]
    },
    {
     "data": {
      "text/plain": [
       "['/unity/ads/input_collections/EMIT_TEST/EMIT_L1B/EMIT_L1B_RAD_001_20230620T084426_2317106_011.nc',\n",
       " '/unity/ads/input_collections/EMIT_TEST/EMIT_L1B/EMIT_L1B_OBS_001_20230620T084426_2317106_011.nc',\n",
       " '/unity/ads/input_collections/EMIT_TEST/EMIT_L2A/EMIT_L2A_RFL_001_20230620T084426_2317106_011.nc',\n",
       " '/unity/ads/input_collections/EMIT_TEST/EMIT_L2A/EMIT_L2A_RFLUNCERT_001_20230620T084426_2317106_011.nc',\n",
       " '/unity/ads/input_collections/EMIT_TEST/EMIT_L2A/EMIT_L2A_MASK_001_20230620T084426_2317106_011.nc']"
      ]
     },
     "execution_count": 9,
     "metadata": {},
     "output_type": "execute_result"
    }
   ],
   "source": [
    "inp_collection = Collection.from_stac(input_stac_collection_file)\n",
    "data_filenames = inp_collection.data_locations()\n",
    "\n",
    "data_filenames"
   ]
  },
  {
   "cell_type": "code",
   "execution_count": 10,
   "id": "7868e315-7721-4a0e-9525-adce1da4abdd",
   "metadata": {},
   "outputs": [],
   "source": [
    "r = re.compile('.*L1B_RAD*')\n",
    "l1b_rad_filename = list(filter(r.match, data_filenames))[0]\n",
    "r = re.compile('.*L1B_OBS*')\n",
    "l1b_obs_filename = list(filter(r.match, data_filenames))[0]\n",
    "r = re.compile('.*L2A_MASL*')\n",
    "l2a_mask_filename = list(filter(r.match, data_filenames))[0]\n",
    "\n",
    "#print(l1b_rad_filename)\n",
    "#print(l1b_obs_filename)\n",
    "#print(l2a_mask_filename)"
   ]
  },
  {
   "cell_type": "code",
   "execution_count": 12,
   "id": "34de5e59-fd84-48b1-875c-f8782e664907",
   "metadata": {},
   "outputs": [
    {
     "ename": "ImportError",
     "evalue": "cannot import name 'ReadAbstractDataSet' from 'utils' (/unity/ads/users/gshen/jay_emit_testing/emit-ghg/utils.py)",
     "output_type": "error",
     "traceback": [
      "\u001b[0;31m---------------------------------------------------------------------------\u001b[0m",
      "\u001b[0;31mImportError\u001b[0m                               Traceback (most recent call last)",
      "Cell \u001b[0;32mIn[12], line 2\u001b[0m\n\u001b[1;32m      1\u001b[0m sys\u001b[38;5;241m.\u001b[39margv \u001b[38;5;241m=\u001b[39m [l1b_rad_filename, l1b_obs_filename, l1b_rad_filename, \u001b[38;5;124m'\u001b[39m\u001b[38;5;124mblah.img\u001b[39m\u001b[38;5;124m'\u001b[39m, l2a_mask_filename, l2a_mask_filename, \u001b[38;5;124m'\u001b[39m\u001b[38;5;124m./process_results/test_output\u001b[39m\u001b[38;5;124m'\u001b[39m, \u001b[38;5;124m'\u001b[39m\u001b[38;5;124m--state_subs \u001b[39m\u001b[38;5;124m'\u001b[39m, l2a_mask_filename]\n\u001b[0;32m----> 2\u001b[0m \u001b[43mexec\u001b[49m\u001b[43m(\u001b[49m\u001b[38;5;28;43mopen\u001b[39;49m\u001b[43m(\u001b[49m\u001b[38;5;124;43m\"\u001b[39;49m\u001b[38;5;124;43m./ghg_process.py\u001b[39;49m\u001b[38;5;124;43m\"\u001b[39;49m\u001b[43m)\u001b[49m\u001b[38;5;241;43m.\u001b[39;49m\u001b[43mread\u001b[49m\u001b[43m(\u001b[49m\u001b[43m)\u001b[49m\u001b[43m)\u001b[49m\n",
      "File \u001b[0;32m<string>:30\u001b[0m\n",
      "\u001b[0;31mImportError\u001b[0m: cannot import name 'ReadAbstractDataSet' from 'utils' (/unity/ads/users/gshen/jay_emit_testing/emit-ghg/utils.py)"
     ]
    }
   ],
   "source": [
    "sys.argv = [l1b_rad_filename, l1b_obs_filename, l1b_rad_filename, 'blah.img', l2a_mask_filename, l2a_mask_filename, './process_results/test_output', '--state_subs ', l2a_mask_filename]\n",
    "exec(open(\"./ghg_process.py\").read())"
   ]
  },
  {
   "cell_type": "code",
   "execution_count": 13,
   "id": "51dfabff-e83b-4237-946f-fdc4ebb3c0a4",
   "metadata": {},
   "outputs": [
    {
     "name": "stdout",
     "output_type": "stream",
     "text": [
      "['/unity/ads/input_collections/EMIT_TEST/EMIT_L1B/EMIT_L1B_RAD_001_20230620T084426_2317106_011.nc', '/unity/ads/input_collections/EMIT_TEST/EMIT_L1B/EMIT_L1B_OBS_001_20230620T084426_2317106_011.nc', '/unity/ads/input_collections/EMIT_TEST/EMIT_L1B/EMIT_L1B_RAD_001_20230620T084426_2317106_011.nc', 'blah.img', '/unity/ads/input_collections/EMIT_TEST/EMIT_L2A/EMIT_L2A_MASK_001_20230620T084426_2317106_011.nc', '/unity/ads/input_collections/EMIT_TEST/EMIT_L2A/EMIT_L2A_MASK_001_20230620T084426_2317106_011.nc', './process_results/test_output', '--state_subs ', '/unity/ads/input_collections/EMIT_TEST/EMIT_L2A/EMIT_L2A_MASK_001_20230620T084426_2317106_011.nc']\n"
     ]
    }
   ],
   "source": [
    "print(sys.argv)"
   ]
  },
  {
   "cell_type": "code",
   "execution_count": null,
   "id": "79c582b2-a159-4000-a076-1ac2cb696647",
   "metadata": {},
   "outputs": [],
   "source": []
  }
 ],
 "metadata": {
  "kernelspec": {
   "display_name": "isofit",
   "language": "python",
   "name": "isofit"
  },
  "language_info": {
   "codemirror_mode": {
    "name": "ipython",
    "version": 3
   },
   "file_extension": ".py",
   "mimetype": "text/x-python",
   "name": "python",
   "nbconvert_exporter": "python",
   "pygments_lexer": "ipython3",
   "version": "3.10.12"
  }
 },
 "nbformat": 4,
 "nbformat_minor": 5
}
